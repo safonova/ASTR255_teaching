{
 "cells": [
  {
   "cell_type": "code",
   "execution_count": 1,
   "metadata": {
    "id": "vi-IcCMLiBFs"
   },
   "outputs": [],
   "source": [
    "import numpy as np\n",
    "from torch import nn, optim\n",
    "import torch.nn.functional as F\n",
    "import torch\n",
    "from torch.utils.data import TensorDataset, DataLoader\n",
    "from matplotlib import pyplot as plt\n"
   ]
  },
  {
   "cell_type": "code",
   "execution_count": 19,
   "metadata": {
    "id": "s7NcyiIniOau"
   },
   "outputs": [],
   "source": [
    "class ArithmeticOracle(nn.Module):\n",
    "  def __init__(self):\n",
    "    super(ArithmeticOracle, self).__init__()\n",
    "\n",
    "    # Declare first layer\n",
    "    self.fc1 = nn.Linear(2, 5)\n",
    "    # And second layer\n",
    "    self.fc2 = nn.Linear(5, 1)\n",
    "  \n",
    "  def forward(self, x):\n",
    "    # Pass input through the first layer\n",
    "    x = self.fc1(x)\n",
    "    \n",
    "    # Apply activation function\n",
    "    x = F.relu(x)\n",
    "    \n",
    "    # Pass input through the second layer\n",
    "    x = self.fc2(x)\n",
    "    \n",
    "    return x"
   ]
  },
  {
   "cell_type": "code",
   "execution_count": 3,
   "metadata": {
    "id": "MmuX02aCjxE0"
   },
   "outputs": [],
   "source": [
    "def train(model, train_loader, test_loader, optimizer, epoch):\n",
    "  # Declare the loss function\n",
    "  loss_fn = nn.MSELoss()\n",
    "  for batch_idx, (data, target) in enumerate(train_loader):\n",
    "    # Zero the gradients\n",
    "    optimizer.zero_grad()\n",
    "    \n",
    "    # Run a batch through the model\n",
    "    output = model(data)\n",
    "    \n",
    "    # Compute loss\n",
    "    loss = loss_fn(output, target)\n",
    "                   \n",
    "    #Propagate loss backwards\n",
    "    loss.backward()\n",
    "\n",
    "    # Propel the optimizer to the next step\n",
    "    optimizer.step()\n",
    "    \n",
    "    # Print out our progress every few batches\n",
    "  if epoch % 1 == 0:\n",
    "    print('Train Epoch: {} [{}/{} ({:.0f}%)]\\tLoss: {:.6f}'.format(\n",
    "        epoch, batch_idx * len(data), len(train_loader.dataset),\n",
    "        100. * batch_idx / len(train_loader), loss.item()))\n",
    "  test_loss = test(model, test_loader, epoch)\n",
    "  return test_loss, loss.item()/len(target)"
   ]
  },
  {
   "cell_type": "code",
   "execution_count": 4,
   "metadata": {
    "id": "gUTjdI7muYWO"
   },
   "outputs": [],
   "source": [
    "\n",
    "def test(model, test_loader, epoch):\n",
    "    test_loss = 0\n",
    "    loss_fn = nn.MSELoss()\n",
    "    with torch.no_grad():\n",
    "        for data, target in test_loader:\n",
    "            #Get input data and ground truth from data loader\n",
    "            data, target = data, target\n",
    "\n",
    "            #Run them through the model\n",
    "            output = model(data)\n",
    "\n",
    "            # Add the loss for the current batch to total loss\n",
    "            test_loss += loss_fn(output, target).item()\n",
    "\n",
    "    # Return average loss per point\n",
    "    test_loss /= len(test_loader.dataset)\n",
    "    return test_loss"
   ]
  },
  {
   "cell_type": "code",
   "execution_count": 5,
   "metadata": {
    "colab": {
     "base_uri": "https://localhost:8080/"
    },
    "id": "s-uUsDiekhUB",
    "outputId": "056a743c-2b8e-40f4-cc44-9ce9f186a17d"
   },
   "outputs": [
    {
     "name": "stdout",
     "output_type": "stream",
     "text": [
      "Shape of input data torch.Size([1000, 2])\n",
      "Original shape of output data torch.Size([1000])\n",
      "Fixed shape of output data torch.Size([1000, 1])\n"
     ]
    }
   ],
   "source": [
    "# Seed the random generator\n",
    "torch.manual_seed(1)\n",
    "\n",
    "testsize = 1000\n",
    "\n",
    "# Generate pairs of numbers between 0 and 0.5\n",
    "example_input = torch.vstack([torch.rand(testsize, 2) * 0.5 ])\n",
    "print(\"Shape of input data\", example_input.shape)\n",
    "\n",
    "# Add the number pairs to get ground truth\n",
    "example_output = torch.sum(example_input, axis=1)\n",
    "print(\"Original shape of output data\", example_output.shape)\n",
    "\n",
    "# IMPORTANT!\n",
    "# Reshape the output to have the same number of dimensions as input data\n",
    "example_output = example_output.reshape(testsize, 1)\n",
    "print(\"Fixed shape of output data\", example_output.shape)"
   ]
  },
  {
   "cell_type": "code",
   "execution_count": 20,
   "metadata": {
    "id": "HdE7iemtlpiu"
   },
   "outputs": [],
   "source": [
    "\n",
    "# Divide the training data into training and test datasets\n",
    "train_input = example_input[:-50]\n",
    "train_ground_truth = example_output[:-50]\n",
    "test_input = example_input[-50:]\n",
    "test_ground_truth = example_output[-50:]\n",
    "\n",
    "\n",
    "# Turn the data into an object that can be used for training\n",
    "train_dataset = TensorDataset(train_input, train_ground_truth)\n",
    "test_dataset = TensorDataset(test_input, test_ground_truth)\n",
    "\n",
    "#Define hyperparameters\n",
    "batch_size = 32\n",
    "learning_rate = 0.025\n",
    "momentum = 0.8\n",
    "\n",
    "\n",
    "#Create PyTorch's DataLoader objects, designed for gradient descent\n",
    "train_loader = torch.utils.data.DataLoader(train_dataset, \n",
    "                                           batch_size=batch_size, \n",
    "                                           shuffle=True)\n",
    "test_loader = torch.utils.data.DataLoader(test_dataset, \n",
    "                                          batch_size=batch_size, \n",
    "                                          shuffle=True)\n"
   ]
  },
  {
   "cell_type": "code",
   "execution_count": 21,
   "metadata": {
    "id": "OG_81XgM0SPt"
   },
   "outputs": [],
   "source": [
    "model = ArithmeticOracle()#\n",
    "optimizer = optim.SGD(model.parameters(), lr=learning_rate, momentum=momentum)"
   ]
  },
  {
   "cell_type": "code",
   "execution_count": 8,
   "metadata": {
    "colab": {
     "base_uri": "https://localhost:8080/",
     "height": 530
    },
    "id": "RhdkFPjrpEYv",
    "outputId": "8a75f088-d51d-4932-a731-b2e4a2a527de"
   },
   "outputs": [
    {
     "name": "stdout",
     "output_type": "stream",
     "text": [
      "Train Epoch: 1 [638/950 (97%)]\tLoss: 0.036820\n",
      "Train Epoch: 2 [638/950 (97%)]\tLoss: 0.044953\n",
      "Train Epoch: 3 [638/950 (97%)]\tLoss: 0.056406\n",
      "Train Epoch: 4 [638/950 (97%)]\tLoss: 0.054116\n",
      "Train Epoch: 5 [638/950 (97%)]\tLoss: 0.027548\n",
      "Train Epoch: 6 [638/950 (97%)]\tLoss: 0.036967\n",
      "Train Epoch: 7 [638/950 (97%)]\tLoss: 0.024664\n",
      "Train Epoch: 8 [638/950 (97%)]\tLoss: 0.032527\n",
      "Train Epoch: 9 [638/950 (97%)]\tLoss: 0.038842\n",
      "Train Epoch: 10 [638/950 (97%)]\tLoss: 0.029497\n",
      "Train Epoch: 11 [638/950 (97%)]\tLoss: 0.020377\n",
      "Train Epoch: 12 [638/950 (97%)]\tLoss: 0.009334\n",
      "Train Epoch: 13 [638/950 (97%)]\tLoss: 0.009748\n",
      "Train Epoch: 14 [638/950 (97%)]\tLoss: 0.003900\n",
      "Train Epoch: 15 [638/950 (97%)]\tLoss: 0.002707\n",
      "Train Epoch: 16 [638/950 (97%)]\tLoss: 0.001329\n",
      "Train Epoch: 17 [638/950 (97%)]\tLoss: 0.001043\n",
      "Train Epoch: 18 [638/950 (97%)]\tLoss: 0.000650\n",
      "Train Epoch: 19 [638/950 (97%)]\tLoss: 0.000211\n"
     ]
    },
    {
     "data": {
      "image/png": "[encoded data removed]",
      "text/plain": [
       "<Figure size 720x480 with 1 Axes>"
      ]
     },
     "metadata": {
      "needs_background": "light"
     },
     "output_type": "display_data"
    }
   ],
   "source": [
    "epochs = []\n",
    "testlosses =  []\n",
    "trainlosses = []\n",
    "for epoch in range(1, 20):\n",
    "    test_loss, train_loss = train(model, train_loader,test_loader, optimizer, epoch)\n",
    "    testlosses.append(test_loss)\n",
    "    trainlosses.append(train_loss)\n",
    "    epochs.append(epoch)\n",
    "fig, axes = plt.subplots(figsize=(6,4), dpi=120)\n",
    "axes.plot(epochs, testlosses, label='test loss')\n",
    "axes.plot(epochs, trainlosses, label=\"train loss\")\n",
    "axes.set(xlabel='epoch', ylabel='average MSE loss per point')\n",
    "axes.legend();\n"
   ]
  },
  {
   "cell_type": "code",
   "execution_count": 10,
   "metadata": {
    "colab": {
     "base_uri": "https://localhost:8080/"
    },
    "id": "vxB2jd1SpeUO",
    "outputId": "5acb7fc4-6fab-4366-f1bf-63a1926466bd"
   },
   "outputs": [
    {
     "name": "stdout",
     "output_type": "stream",
     "text": [
      "The oracle says 0.05 plus 0.75 equals 8e-01.\n"
     ]
    }
   ],
   "source": [
    "# Have your new arithmetic oracle do some additions!\n",
    "\n",
    "a = 0.05\n",
    "b = 0.75\n",
    "\n",
    "\n",
    "please_add = model(torch.Tensor([a,b]))\n",
    "print(f\"The oracle says {a} plus {b} equals {please_add[0]:0.0e}.\")"
   ]
  },
  {
   "cell_type": "code",
   "execution_count": null,
   "metadata": {
    "id": "QpozNjlNvm64"
   },
   "outputs": [],
   "source": []
  }
 ],
 "metadata": {
  "colab": {
   "collapsed_sections": [],
   "name": "intro_to_NNs_cpsc553_111021.ipynb",
   "provenance": []
  },
  "kernelspec": {
   "display_name": "Python 3",
   "language": "python",
   "name": "python3"
  },
  "language_info": {
   "codemirror_mode": {
    "name": "ipython",
    "version": 3
   },
   "file_extension": ".py",
   "mimetype": "text/x-python",
   "name": "python",
   "nbconvert_exporter": "python",
   "pygments_lexer": "ipython3",
   "version": "3.7.7"
  }
 },
 "nbformat": 4,
 "nbformat_minor": 1
}
